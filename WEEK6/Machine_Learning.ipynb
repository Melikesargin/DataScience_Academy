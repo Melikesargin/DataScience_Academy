{
 "cells": [
  {
   "cell_type": "markdown",
   "metadata": {},
   "source": [
    "# Python for Machine Learning\n",
    "\n",
    "1- numpy\n",
    "2- SciPy\n",
    "3- Matplotlib\n",
    "4- Pandas\n",
    "5- scikit-learn"
   ]
  },
  {
   "cell_type": "markdown",
   "metadata": {},
   "source": [
    "## scikit-learn\n",
    "\n",
    "- allows to work wiht numpy and scipy\n",
    "- good docs\n",
    "- easy to use\n",
    "\n",
    "pre-processing of data,  feature selection,  feature extraction, train/test splitting,  defining the algorithms,  fitting models,  tuning parameters,  prediction, evaluation,  and exporting the model."
   ]
  },
  {
   "cell_type": "code",
   "execution_count": 2,
   "metadata": {},
   "outputs": [],
   "source": [
    "# pip install scikit-learn\n",
    "# from sklearn import preprocessing\n",
    "# X = preprocessing.StandardScaler().fit(X).transform(X)"
   ]
  },
  {
   "cell_type": "code",
   "execution_count": null,
   "metadata": {},
   "outputs": [],
   "source": [
    "# from sklearn.model_selection import train_test_split\n",
    "# X_train, X_test, y_train, y_test = train_test_split(X, y, test_size=0.3)"
   ]
  },
  {
   "cell_type": "code",
   "execution_count": null,
   "metadata": {},
   "outputs": [],
   "source": [
    "# from sklearn import svm\n",
    "# clf = svm.SVC(gamma=0.01, C=90.0) #estimator instance\n",
    "\n",
    "# clf.fit(X_train, y_train)\n",
    "\n",
    "# clf.predict(X_test)"
   ]
  },
  {
   "cell_type": "code",
   "execution_count": null,
   "metadata": {},
   "outputs": [],
   "source": [
    "# from sklearn.metrics import confusion_matrix # use metrics to avaluate model accuracy\n",
    "# print(confusion_matrix(y_test, labels=[1,0]))"
   ]
  },
  {
   "cell_type": "code",
   "execution_count": null,
   "metadata": {},
   "outputs": [],
   "source": [
    "# Save your model\n",
    "# import pickle\n",
    "# s = pickle.dumps(clf)"
   ]
  },
  {
   "cell_type": "markdown",
   "metadata": {},
   "source": [
    "# Supervised vs Unsupervised"
   ]
  },
  {
   "cell_type": "markdown",
   "metadata": {},
   "source": [
    "**Supervised Learning (Denetimli Öğrenme):\n",
    "\n",
    "Denetimli öğrenme, eğitim veri setinde her örneğin bir girdi (özellikler) ve bir çıktı (etiket) ile eşleştirildiği bir öğrenme türüdür.\n",
    "Amacı, öğrenilen modelin yeni, daha önce görülmemiş veri üzerinde doğru tahminler yapabilmesini sağlamaktır.\n",
    "Örnek algoritmalar: Lineer Regresyon, Karar Ağaçları, Destek Vektör Makineleri (SVM), Sinir Ağları.\n",
    "\n",
    "**Unsupervised Learning (Denetimsiz Öğrenme):\n",
    "\n",
    "Denetimsiz öğrenme, eğitim veri setinde etiket bilgilerinin olmadığı veya kullanılmadığı bir öğrenme türüdür. \n",
    "Temel amaç, veri içindeki doğal yapıları ortaya çıkarmak ve bu yapıları anlamaktır.\n",
    "Örnek algoritmalar: K-Means Kümeleme, Hiyerarşik Kümeleme, Temsilciliği Öğrenme, Temsilciliği Öğrenme, Gelişigüzel Ormanlar (Random Forests) içindeki Yoğunluk Temelli Kümeleme."
   ]
  }
 ],
 "metadata": {
  "kernelspec": {
   "display_name": "base",
   "language": "python",
   "name": "python3"
  },
  "language_info": {
   "codemirror_mode": {
    "name": "ipython",
    "version": 3
   },
   "file_extension": ".py",
   "mimetype": "text/x-python",
   "name": "python",
   "nbconvert_exporter": "python",
   "pygments_lexer": "ipython3",
   "version": "3.11.5"
  }
 },
 "nbformat": 4,
 "nbformat_minor": 2
}
